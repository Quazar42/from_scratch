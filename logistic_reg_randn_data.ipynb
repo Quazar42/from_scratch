{
 "cells": [
  {
   "cell_type": "code",
   "execution_count": null,
   "metadata": {
    "collapsed": false
   },
   "outputs": [],
   "source": [
    "import numpy as np\n",
    "\n",
    "# Visualize data\n",
    "%matplotlib inline\n",
    "import matplotlib.pyplot as plt\n",
    "from matplotlib import style\n",
    "style.use('ggplot')"
   ]
  },
  {
   "cell_type": "markdown",
   "metadata": {},
   "source": [
    "Input data"
   ]
  },
  {
   "cell_type": "code",
   "execution_count": null,
   "metadata": {
    "collapsed": false
   },
   "outputs": [],
   "source": [
    "# Input data\n",
    "N = 100\n",
    "D = 2\n",
    "X = np.random.randn(100, 2)\n",
    "\n",
    "# Center points at specific locations\n",
    "X[:50, :] -= 2 * np.ones([50, D])\n",
    "X[50:, :] += 2 * np.ones([50, D])\n",
    "\n",
    "# Create targets\n",
    "T = np.array([0]*50 + [1]*50)\n",
    "\n",
    "# Plot data points\n",
    "plt.scatter(X[:, 0], X[:, 1], c = T)"
   ]
  },
  {
   "cell_type": "markdown",
   "metadata": {},
   "source": [
    "Construct the model (logistic regression)"
   ]
  },
  {
   "cell_type": "code",
   "execution_count": null,
   "metadata": {
    "collapsed": true
   },
   "outputs": [],
   "source": [
    "def sigmoid(x):\n",
    "    return 1 / (1 + np.exp(-x))"
   ]
  },
  {
   "cell_type": "code",
   "execution_count": null,
   "metadata": {
    "collapsed": true
   },
   "outputs": [],
   "source": [
    "def cross_entropy(T, Y):\n",
    "    # If T = 0, fake_label = 1 - Y ; if T = 1, fake_label = Y\n",
    "    fake_label = Y.copy()\n",
    "    fake_label[T == 0] = 1 - fake_label[T == 0]    \n",
    "  \n",
    "    return -np.sum(np.log(fake_label))   "
   ]
  },
  {
   "cell_type": "code",
   "execution_count": null,
   "metadata": {
    "collapsed": false
   },
   "outputs": [],
   "source": [
    "# Join bias with input\n",
    "bias = np.ones([100, 1])\n",
    "Xb = np.concatenate((bias, X), axis = 1)\n",
    "\n",
    "# Create random weights\n",
    "W = np.random.randn(D + 1)"
   ]
  },
  {
   "cell_type": "code",
   "execution_count": null,
   "metadata": {
    "collapsed": true
   },
   "outputs": [],
   "source": [
    "# Calculate output\n",
    "z = Xb.dot(W)\n",
    "Y = sigmoid(z)"
   ]
  },
  {
   "cell_type": "code",
   "execution_count": null,
   "metadata": {
    "collapsed": false
   },
   "outputs": [],
   "source": [
    "print('Cross entropy:', cross_entropy(T, Y))"
   ]
  },
  {
   "cell_type": "code",
   "execution_count": null,
   "metadata": {
    "collapsed": false
   },
   "outputs": [],
   "source": [
    "def visualize(W):\n",
    "    x = np.arange(-4, 5.1, 0.1)\n",
    "    y = np.arange(-6, 6.1, 0.1)\n",
    "    xx, yy = np.meshgrid(x, y)\n",
    "\n",
    "    ones = np.ones([np.product(xx.shape), 1])\n",
    "    pred_area = np.concatenate((ones, np.c_[xx.ravel(), yy.ravel()]), axis = 1)\n",
    "\n",
    "    pred = pred_area.dot(W)\n",
    "    pred[pred > 0] = 1\n",
    "    pred[pred <= 0] = 0\n",
    "\n",
    "    pred = pred.reshape(xx.shape)\n",
    "\n",
    "    # Plot decision boundaries\n",
    "    plt.pcolormesh(xx, yy, pred, cmap = 'seismic')\n",
    "\n",
    "    # Plot data points\n",
    "    plt.scatter(X[:, 0], X[:, 1], c = T)\n",
    "\n",
    "    plt.xlim(-4, 5)\n",
    "    plt.ylim(-6, 6)\n",
    "    plt.show()\n",
    "    \n",
    "    return"
   ]
  },
  {
   "cell_type": "markdown",
   "metadata": {},
   "source": [
    "Training"
   ]
  },
  {
   "cell_type": "code",
   "execution_count": null,
   "metadata": {
    "collapsed": false
   },
   "outputs": [],
   "source": [
    "n_steps = 100\n",
    "learning_rate = 0.003\n",
    "regul_factor = 0.01\n",
    "\n",
    "for step in range(n_steps):\n",
    "    if step % 10 == 0:\n",
    "        print('Cross entropy:', cross_entropy(T, Y))\n",
    "        visualize(W)\n",
    "    \n",
    "    W -= learning_rate * (np.dot((Y - T).T, Xb) - regul_factor * W)\n",
    "    Y = sigmoid(Xb.dot(W))    \n",
    "    \n",
    "print(W)"
   ]
  }
 ],
 "metadata": {
  "anaconda-cloud": {},
  "kernelspec": {
   "display_name": "Python [conda root]",
   "language": "python",
   "name": "conda-root-py"
  },
  "language_info": {
   "codemirror_mode": {
    "name": "ipython",
    "version": 3
   },
   "file_extension": ".py",
   "mimetype": "text/x-python",
   "name": "python",
   "nbconvert_exporter": "python",
   "pygments_lexer": "ipython3",
   "version": "3.5.2"
  }
 },
 "nbformat": 4,
 "nbformat_minor": 1
}
