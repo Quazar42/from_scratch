{
 "cells": [
  {
   "cell_type": "code",
   "execution_count": 1,
   "metadata": {
    "collapsed": true
   },
   "outputs": [],
   "source": [
    "import numpy as np\n",
    "\n",
    "# Load data\n",
    "import pandas as pd\n",
    "\n",
    "# Visualize data\n",
    "%matplotlib inline\n",
    "import matplotlib.pyplot as plt\n",
    "import seaborn as sns\n",
    "\n",
    "# Split data\n",
    "from sklearn.model_selection import train_test_split"
   ]
  },
  {
   "cell_type": "markdown",
   "metadata": {},
   "source": [
    "# Load and modify data"
   ]
  },
  {
   "cell_type": "code",
   "execution_count": 2,
   "metadata": {
    "collapsed": false
   },
   "outputs": [
    {
     "data": {
      "text/html": [
       "<div>\n",
       "<table border=\"1\" class=\"dataframe\">\n",
       "  <thead>\n",
       "    <tr style=\"text-align: right;\">\n",
       "      <th></th>\n",
       "      <th>is_mobile</th>\n",
       "      <th>n_products_viewed</th>\n",
       "      <th>visit_duration</th>\n",
       "      <th>is_returning_visitor</th>\n",
       "      <th>time_of_day</th>\n",
       "      <th>user_action</th>\n",
       "    </tr>\n",
       "  </thead>\n",
       "  <tbody>\n",
       "    <tr>\n",
       "      <th>0</th>\n",
       "      <td>1</td>\n",
       "      <td>0</td>\n",
       "      <td>0.657510</td>\n",
       "      <td>0</td>\n",
       "      <td>3</td>\n",
       "      <td>0</td>\n",
       "    </tr>\n",
       "    <tr>\n",
       "      <th>1</th>\n",
       "      <td>1</td>\n",
       "      <td>1</td>\n",
       "      <td>0.568571</td>\n",
       "      <td>0</td>\n",
       "      <td>2</td>\n",
       "      <td>1</td>\n",
       "    </tr>\n",
       "    <tr>\n",
       "      <th>2</th>\n",
       "      <td>1</td>\n",
       "      <td>0</td>\n",
       "      <td>0.042246</td>\n",
       "      <td>1</td>\n",
       "      <td>1</td>\n",
       "      <td>0</td>\n",
       "    </tr>\n",
       "    <tr>\n",
       "      <th>3</th>\n",
       "      <td>1</td>\n",
       "      <td>1</td>\n",
       "      <td>1.659793</td>\n",
       "      <td>1</td>\n",
       "      <td>1</td>\n",
       "      <td>2</td>\n",
       "    </tr>\n",
       "    <tr>\n",
       "      <th>4</th>\n",
       "      <td>0</td>\n",
       "      <td>1</td>\n",
       "      <td>2.014745</td>\n",
       "      <td>1</td>\n",
       "      <td>1</td>\n",
       "      <td>2</td>\n",
       "    </tr>\n",
       "  </tbody>\n",
       "</table>\n",
       "</div>"
      ],
      "text/plain": [
       "   is_mobile  n_products_viewed  visit_duration  is_returning_visitor  \\\n",
       "0          1                  0        0.657510                     0   \n",
       "1          1                  1        0.568571                     0   \n",
       "2          1                  0        0.042246                     1   \n",
       "3          1                  1        1.659793                     1   \n",
       "4          0                  1        2.014745                     1   \n",
       "\n",
       "   time_of_day  user_action  \n",
       "0            3            0  \n",
       "1            2            1  \n",
       "2            1            0  \n",
       "3            1            2  \n",
       "4            1            2  "
      ]
     },
     "execution_count": 2,
     "metadata": {},
     "output_type": "execute_result"
    }
   ],
   "source": [
    "df = pd.read_csv('data/ecommerce_data.csv')\n",
    "df.head()"
   ]
  },
  {
   "cell_type": "code",
   "execution_count": 3,
   "metadata": {
    "collapsed": false
   },
   "outputs": [],
   "source": [
    "# Only use 0 and 1 for user_action\n",
    "df = df.drop(df[df['user_action'] > 1].index)"
   ]
  },
  {
   "cell_type": "code",
   "execution_count": 4,
   "metadata": {
    "collapsed": true
   },
   "outputs": [],
   "source": [
    "items = ['is_mobile', 'n_products_viewed', 'visit_duration', 'time_of_day']\n",
    "X = df[items].copy()\n",
    "Y = df['user_action'].copy()"
   ]
  },
  {
   "cell_type": "code",
   "execution_count": 5,
   "metadata": {
    "collapsed": false
   },
   "outputs": [],
   "source": [
    "# Normalize data\n",
    "X['n_products_viewed'] = (X['n_products_viewed'] - X['n_products_viewed'].mean()) / X['n_products_viewed'].std()\n",
    "X['visit_duration'] = (X['visit_duration'] - X['visit_duration'].mean()) / X['visit_duration'].std()"
   ]
  },
  {
   "cell_type": "code",
   "execution_count": 6,
   "metadata": {
    "collapsed": false
   },
   "outputs": [],
   "source": [
    "# Transform time_of_day to one hot encoding\n",
    "X = X.join(pd.get_dummies(X['time_of_day']))\n",
    "X = X.drop(['time_of_day'], axis = 1)"
   ]
  },
  {
   "cell_type": "code",
   "execution_count": 7,
   "metadata": {
    "collapsed": false
   },
   "outputs": [
    {
     "data": {
      "text/html": [
       "<div>\n",
       "<table border=\"1\" class=\"dataframe\">\n",
       "  <thead>\n",
       "    <tr style=\"text-align: right;\">\n",
       "      <th></th>\n",
       "      <th>is_mobile</th>\n",
       "      <th>n_products_viewed</th>\n",
       "      <th>visit_duration</th>\n",
       "      <th>0</th>\n",
       "      <th>1</th>\n",
       "      <th>2</th>\n",
       "      <th>3</th>\n",
       "    </tr>\n",
       "  </thead>\n",
       "  <tbody>\n",
       "    <tr>\n",
       "      <th>0</th>\n",
       "      <td>1</td>\n",
       "      <td>-0.673141</td>\n",
       "      <td>-0.274422</td>\n",
       "      <td>0.0</td>\n",
       "      <td>0.0</td>\n",
       "      <td>0.0</td>\n",
       "      <td>1.0</td>\n",
       "    </tr>\n",
       "    <tr>\n",
       "      <th>1</th>\n",
       "      <td>1</td>\n",
       "      <td>0.462072</td>\n",
       "      <td>-0.373996</td>\n",
       "      <td>0.0</td>\n",
       "      <td>0.0</td>\n",
       "      <td>1.0</td>\n",
       "      <td>0.0</td>\n",
       "    </tr>\n",
       "    <tr>\n",
       "      <th>2</th>\n",
       "      <td>1</td>\n",
       "      <td>-0.673141</td>\n",
       "      <td>-0.963261</td>\n",
       "      <td>0.0</td>\n",
       "      <td>1.0</td>\n",
       "      <td>0.0</td>\n",
       "      <td>0.0</td>\n",
       "    </tr>\n",
       "    <tr>\n",
       "      <th>6</th>\n",
       "      <td>0</td>\n",
       "      <td>-0.673141</td>\n",
       "      <td>0.602007</td>\n",
       "      <td>0.0</td>\n",
       "      <td>1.0</td>\n",
       "      <td>0.0</td>\n",
       "      <td>0.0</td>\n",
       "    </tr>\n",
       "    <tr>\n",
       "      <th>7</th>\n",
       "      <td>1</td>\n",
       "      <td>-0.673141</td>\n",
       "      <td>-0.971082</td>\n",
       "      <td>0.0</td>\n",
       "      <td>0.0</td>\n",
       "      <td>0.0</td>\n",
       "      <td>1.0</td>\n",
       "    </tr>\n",
       "  </tbody>\n",
       "</table>\n",
       "</div>"
      ],
      "text/plain": [
       "   is_mobile  n_products_viewed  visit_duration    0    1    2    3\n",
       "0          1          -0.673141       -0.274422  0.0  0.0  0.0  1.0\n",
       "1          1           0.462072       -0.373996  0.0  0.0  1.0  0.0\n",
       "2          1          -0.673141       -0.963261  0.0  1.0  0.0  0.0\n",
       "6          0          -0.673141        0.602007  0.0  1.0  0.0  0.0\n",
       "7          1          -0.673141       -0.971082  0.0  0.0  0.0  1.0"
      ]
     },
     "execution_count": 7,
     "metadata": {},
     "output_type": "execute_result"
    }
   ],
   "source": [
    "X.head()"
   ]
  },
  {
   "cell_type": "code",
   "execution_count": 8,
   "metadata": {
    "collapsed": false
   },
   "outputs": [],
   "source": [
    "features_train, features_test, labels_train, labels_test = train_test_split(X, Y, test_size = 0.3)"
   ]
  },
  {
   "cell_type": "markdown",
   "metadata": {},
   "source": [
    "# Logistic regression"
   ]
  },
  {
   "cell_type": "code",
   "execution_count": 9,
   "metadata": {
    "collapsed": true
   },
   "outputs": [],
   "source": [
    "def sigmoid(x):\n",
    "    return 1 / (1 + np.exp(-x))"
   ]
  },
  {
   "cell_type": "code",
   "execution_count": 10,
   "metadata": {
    "collapsed": true
   },
   "outputs": [],
   "source": [
    "def feed_foward(X, W, b):\n",
    "    return sigmoid(X.dot(W) + b)"
   ]
  },
  {
   "cell_type": "code",
   "execution_count": 11,
   "metadata": {
    "collapsed": true
   },
   "outputs": [],
   "source": [
    "def accuracy(Y, pred):\n",
    "    return np.mean(Y == pred)"
   ]
  },
  {
   "cell_type": "code",
   "execution_count": 12,
   "metadata": {
    "collapsed": true
   },
   "outputs": [],
   "source": [
    "def cross_entropy(T, pred):\n",
    "    return -np.mean(T*np.log(pred) + (1 - T)*np.log(1 - pred))"
   ]
  },
  {
   "cell_type": "code",
   "execution_count": 13,
   "metadata": {
    "collapsed": true
   },
   "outputs": [],
   "source": [
    "W = np.random.randn(X.shape[1])\n",
    "b = 0"
   ]
  },
  {
   "cell_type": "code",
   "execution_count": 14,
   "metadata": {
    "collapsed": false
   },
   "outputs": [],
   "source": [
    "logits = feed_foward(X, W, b)\n",
    "predictions = np.round(logits)"
   ]
  },
  {
   "cell_type": "code",
   "execution_count": 15,
   "metadata": {
    "collapsed": false
   },
   "outputs": [
    {
     "data": {
      "text/plain": [
       "0.66834170854271358"
      ]
     },
     "execution_count": 15,
     "metadata": {},
     "output_type": "execute_result"
    }
   ],
   "source": [
    "accuracy(Y, predictions)"
   ]
  },
  {
   "cell_type": "code",
   "execution_count": null,
   "metadata": {
    "collapsed": false
   },
   "outputs": [],
   "source": [
    "training_costs = []\n",
    "test_costs = []\n",
    "\n",
    "# Hyperparameters\n",
    "n_interations = 10000\n",
    "learning_rate = 3e-4\n",
    "regularization = 0.1"
   ]
  },
  {
   "cell_type": "code",
   "execution_count": null,
   "metadata": {
    "collapsed": false,
    "scrolled": true
   },
   "outputs": [
    {
     "name": "stdout",
     "output_type": "stream",
     "text": [
      "Cross entropy:  0.598772889151208\n",
      "Accuracy on train: 0.63309352518\n",
      "Accuracy on test: 0.75\n",
      "-------------------------\n",
      "Cross entropy:  0.3163551557276476\n",
      "Accuracy on train: 0.895683453237\n",
      "Accuracy on test: 0.9\n",
      "-------------------------\n",
      "Cross entropy:  0.27193904235436966\n",
      "Accuracy on train: 0.928057553957\n",
      "Accuracy on test: 0.925\n",
      "-------------------------\n",
      "Cross entropy:  0.2518611027092923\n",
      "Accuracy on train: 0.953237410072\n",
      "Accuracy on test: 0.958333333333\n",
      "-------------------------\n",
      "Cross entropy:  0.2408542913495105\n",
      "Accuracy on train: 0.960431654676\n",
      "Accuracy on test: 0.975\n",
      "-------------------------\n",
      "Cross entropy:  0.2342363714923283\n",
      "Accuracy on train: 0.964028776978\n",
      "Accuracy on test: 0.975\n",
      "-------------------------\n",
      "Cross entropy:  0.22999772433684584\n",
      "Accuracy on train: 0.964028776978\n",
      "Accuracy on test: 0.975\n",
      "-------------------------\n",
      "Cross entropy:  0.227146846068274\n",
      "Accuracy on train: 0.964028776978\n",
      "Accuracy on test: 0.975\n",
      "-------------------------\n",
      "Cross entropy:  0.22515077518936494\n",
      "Accuracy on train: 0.964028776978\n",
      "Accuracy on test: 0.975\n",
      "-------------------------\n",
      "Cross entropy:  0.22370531892313886\n",
      "Accuracy on train: 0.964028776978\n",
      "Accuracy on test: 0.975\n",
      "-------------------------\n",
      "Cross entropy:  0.2226285587938983\n",
      "Accuracy on train: 0.964028776978\n",
      "Accuracy on test: 0.975\n",
      "-------------------------\n",
      "Cross entropy:  0.22180726703129833\n",
      "Accuracy on train: 0.964028776978\n",
      "Accuracy on test: 0.975\n",
      "-------------------------\n",
      "Cross entropy:  0.221168396791536\n",
      "Accuracy on train: 0.964028776978\n",
      "Accuracy on test: 0.975\n",
      "-------------------------\n",
      "Cross entropy:  0.220663267949613\n",
      "Accuracy on train: 0.964028776978\n",
      "Accuracy on test: 0.975\n",
      "-------------------------\n",
      "Cross entropy:  0.2202584754985768\n",
      "Accuracy on train: 0.964028776978\n",
      "Accuracy on test: 0.975\n",
      "-------------------------\n",
      "Cross entropy:  0.2199304859482818\n",
      "Accuracy on train: 0.964028776978\n",
      "Accuracy on test: 0.975\n",
      "-------------------------\n",
      "Cross entropy:  0.21966232386110987\n",
      "Accuracy on train: 0.964028776978\n",
      "Accuracy on test: 0.975\n",
      "-------------------------\n",
      "Cross entropy:  0.2194414807479247\n",
      "Accuracy on train: 0.964028776978\n",
      "Accuracy on test: 0.975\n",
      "-------------------------\n",
      "Cross entropy:  0.21925856048942297\n",
      "Accuracy on train: 0.964028776978\n",
      "Accuracy on test: 0.975\n",
      "-------------------------\n",
      "Cross entropy:  0.21910638095134918\n",
      "Accuracy on train: 0.964028776978\n",
      "Accuracy on test: 0.975\n",
      "-------------------------\n",
      "Cross entropy:  0.21897936530028456\n",
      "Accuracy on train: 0.964028776978\n",
      "Accuracy on test: 0.975\n",
      "-------------------------\n",
      "Cross entropy:  0.21887312146304774\n",
      "Accuracy on train: 0.964028776978\n",
      "Accuracy on test: 0.975\n",
      "-------------------------\n",
      "Cross entropy:  0.21878414627051088\n",
      "Accuracy on train: 0.964028776978\n",
      "Accuracy on test: 0.975\n",
      "-------------------------\n",
      "Cross entropy:  0.21870961376643436\n",
      "Accuracy on train: 0.964028776978\n",
      "Accuracy on test: 0.975\n",
      "-------------------------\n",
      "Cross entropy:  0.21864722130253628\n",
      "Accuracy on train: 0.964028776978\n",
      "Accuracy on test: 0.975\n",
      "-------------------------\n",
      "Cross entropy:  0.21859507594252003\n",
      "Accuracy on train: 0.964028776978\n",
      "Accuracy on test: 0.975\n",
      "-------------------------\n",
      "Cross entropy:  0.21855160940771243\n",
      "Accuracy on train: 0.964028776978\n",
      "Accuracy on test: 0.975\n",
      "-------------------------\n",
      "Cross entropy:  0.21851551352231227\n",
      "Accuracy on train: 0.964028776978\n",
      "Accuracy on test: 0.975\n",
      "-------------------------\n",
      "Cross entropy:  0.21848569058463654\n",
      "Accuracy on train: 0.964028776978\n",
      "Accuracy on test: 0.975\n",
      "-------------------------\n",
      "Cross entropy:  0.21846121474980779\n",
      "Accuracy on train: 0.964028776978\n",
      "Accuracy on test: 0.975\n",
      "-------------------------\n",
      "Cross entropy:  0.21844130163923337\n",
      "Accuracy on train: 0.964028776978\n",
      "Accuracy on test: 0.975\n",
      "-------------------------\n",
      "Cross entropy:  0.2184252841715477\n",
      "Accuracy on train: 0.964028776978\n",
      "Accuracy on test: 0.975\n",
      "-------------------------\n",
      "Cross entropy:  0.2184125931535674\n",
      "Accuracy on train: 0.964028776978\n",
      "Accuracy on test: 0.975\n",
      "-------------------------\n",
      "Cross entropy:  0.21840274155377343\n",
      "Accuracy on train: 0.964028776978\n",
      "Accuracy on test: 0.975\n",
      "-------------------------\n",
      "Cross entropy:  0.21839531165495396\n",
      "Accuracy on train: 0.964028776978\n",
      "Accuracy on test: 0.975\n",
      "-------------------------\n",
      "Cross entropy:  0.21838994448039484\n",
      "Accuracy on train: 0.964028776978\n",
      "Accuracy on test: 0.975\n",
      "-------------------------\n",
      "Cross entropy:  0.21838633103225552\n",
      "Accuracy on train: 0.964028776978\n",
      "Accuracy on test: 0.975\n",
      "-------------------------\n",
      "Cross entropy:  0.2183842049870292\n",
      "Accuracy on train: 0.964028776978\n",
      "Accuracy on test: 0.975\n",
      "-------------------------\n",
      "Cross entropy:  0.21838333657209016\n",
      "Accuracy on train: 0.964028776978\n",
      "Accuracy on test: 0.975\n",
      "-------------------------\n",
      "Cross entropy:  0.2183835274067801\n",
      "Accuracy on train: 0.964028776978\n",
      "Accuracy on test: 0.975\n",
      "-------------------------\n",
      "Cross entropy:  0.2183846061366364\n",
      "Accuracy on train: 0.964028776978\n",
      "Accuracy on test: 0.975\n",
      "-------------------------\n",
      "Cross entropy:  0.21838642472392217\n",
      "Accuracy on train: 0.964028776978\n",
      "Accuracy on test: 0.975\n",
      "-------------------------\n",
      "Cross entropy:  0.21838885528440066\n",
      "Accuracy on train: 0.964028776978\n",
      "Accuracy on test: 0.975\n",
      "-------------------------\n",
      "Cross entropy:  0.21839178738109977\n",
      "Accuracy on train: 0.964028776978\n",
      "Accuracy on test: 0.975\n",
      "-------------------------\n",
      "Cross entropy:  0.21839512570227756\n",
      "Accuracy on train: 0.964028776978\n",
      "Accuracy on test: 0.975\n",
      "-------------------------\n",
      "Cross entropy:  0.21839878806377305\n",
      "Accuracy on train: 0.964028776978\n",
      "Accuracy on test: 0.975\n",
      "-------------------------\n",
      "Cross entropy:  0.2184027036863507\n",
      "Accuracy on train: 0.964028776978\n",
      "Accuracy on test: 0.975\n",
      "-------------------------\n",
      "Cross entropy:  0.2184068117070017\n",
      "Accuracy on train: 0.964028776978\n",
      "Accuracy on test: 0.975\n",
      "-------------------------\n",
      "Cross entropy:  0.21841105988994633\n",
      "Accuracy on train: 0.964028776978\n",
      "Accuracy on test: 0.975\n",
      "-------------------------\n",
      "Cross entropy:  0.21841540350862423\n",
      "Accuracy on train: 0.964028776978\n",
      "Accuracy on test: 0.975\n",
      "-------------------------\n",
      "Cross entropy:  0.21841980437447575\n",
      "Accuracy on train: 0.964028776978\n",
      "Accuracy on test: 0.975\n",
      "-------------------------\n",
      "Cross entropy:  0.2184242299920662\n",
      "Accuracy on train: 0.964028776978\n",
      "Accuracy on test: 0.975\n",
      "-------------------------\n",
      "Cross entropy:  0.21842865282321663\n",
      "Accuracy on train: 0.964028776978\n",
      "Accuracy on test: 0.975\n",
      "-------------------------\n",
      "Cross entropy:  0.21843304964535654\n",
      "Accuracy on train: 0.964028776978\n",
      "Accuracy on test: 0.975\n",
      "-------------------------\n",
      "Cross entropy:  0.21843740099150585\n",
      "Accuracy on train: 0.964028776978\n",
      "Accuracy on test: 0.975\n",
      "-------------------------\n",
      "Cross entropy:  0.21844169066107827\n",
      "Accuracy on train: 0.964028776978\n",
      "Accuracy on test: 0.975\n",
      "-------------------------\n",
      "Cross entropy:  0.2184459052922545\n",
      "Accuracy on train: 0.964028776978\n",
      "Accuracy on test: 0.975\n",
      "-------------------------\n",
      "Cross entropy:  0.2184500339879389\n",
      "Accuracy on train: 0.964028776978\n",
      "Accuracy on test: 0.975\n",
      "-------------------------\n",
      "Cross entropy:  0.21845406798842934\n",
      "Accuracy on train: 0.964028776978\n",
      "Accuracy on test: 0.975\n",
      "-------------------------\n",
      "Cross entropy:  0.21845800038485877\n",
      "Accuracy on train: 0.964028776978\n",
      "Accuracy on test: 0.975\n",
      "-------------------------\n",
      "Cross entropy:  0.21846182586826343\n",
      "Accuracy on train: 0.964028776978\n",
      "Accuracy on test: 0.975\n",
      "-------------------------\n",
      "Cross entropy:  0.21846554050981049\n",
      "Accuracy on train: 0.964028776978\n",
      "Accuracy on test: 0.975\n",
      "-------------------------\n",
      "Cross entropy:  0.21846914156831082\n",
      "Accuracy on train: 0.964028776978\n",
      "Accuracy on test: 0.975\n",
      "-------------------------\n",
      "Cross entropy:  0.21847262732164396\n",
      "Accuracy on train: 0.964028776978\n",
      "Accuracy on test: 0.975\n",
      "-------------------------\n",
      "Cross entropy:  0.2184759969191527\n",
      "Accuracy on train: 0.964028776978\n",
      "Accuracy on test: 0.975\n",
      "-------------------------\n",
      "Cross entropy:  0.2184792502524369\n",
      "Accuracy on train: 0.964028776978\n",
      "Accuracy on test: 0.975\n",
      "-------------------------\n",
      "Cross entropy:  0.21848238784231108\n",
      "Accuracy on train: 0.964028776978\n",
      "Accuracy on test: 0.975\n",
      "-------------------------\n",
      "Cross entropy:  0.21848541073995933\n",
      "Accuracy on train: 0.964028776978\n",
      "Accuracy on test: 0.975\n",
      "-------------------------\n",
      "Cross entropy:  0.21848832044057076\n",
      "Accuracy on train: 0.964028776978\n",
      "Accuracy on test: 0.975\n",
      "-------------------------\n",
      "Cross entropy:  0.21849111880794575\n",
      "Accuracy on train: 0.964028776978\n",
      "Accuracy on test: 0.975\n",
      "-------------------------\n",
      "Cross entropy:  0.21849380800876037\n",
      "Accuracy on train: 0.964028776978\n",
      "Accuracy on test: 0.975\n",
      "-------------------------\n",
      "Cross entropy:  0.21849639045531213\n",
      "Accuracy on train: 0.964028776978\n",
      "Accuracy on test: 0.975\n",
      "-------------------------\n",
      "Cross entropy:  0.21849886875574664\n",
      "Accuracy on train: 0.964028776978\n",
      "Accuracy on test: 0.975\n",
      "-------------------------\n",
      "Cross entropy:  0.21850124567084897\n",
      "Accuracy on train: 0.964028776978\n",
      "Accuracy on test: 0.975\n",
      "-------------------------\n",
      "Cross entropy:  0.21850352407661805\n",
      "Accuracy on train: 0.964028776978\n",
      "Accuracy on test: 0.975\n",
      "-------------------------\n",
      "Cross entropy:  0.2185057069319331\n",
      "Accuracy on train: 0.964028776978\n",
      "Accuracy on test: 0.975\n",
      "-------------------------\n",
      "Cross entropy:  0.2185077972506836\n",
      "Accuracy on train: 0.964028776978\n",
      "Accuracy on test: 0.975\n",
      "-------------------------\n",
      "Cross entropy:  0.21850979807784132\n",
      "Accuracy on train: 0.964028776978\n",
      "Accuracy on test: 0.975\n",
      "-------------------------\n",
      "Cross entropy:  0.2185117124689786\n",
      "Accuracy on train: 0.964028776978\n",
      "Accuracy on test: 0.975\n",
      "-------------------------\n",
      "Cross entropy:  0.21851354347282703\n",
      "Accuracy on train: 0.964028776978\n",
      "Accuracy on test: 0.975\n",
      "-------------------------\n",
      "Cross entropy:  0.21851529411649376\n",
      "Accuracy on train: 0.964028776978\n",
      "Accuracy on test: 0.975\n",
      "-------------------------\n",
      "Cross entropy:  0.21851696739301826\n",
      "Accuracy on train: 0.964028776978\n",
      "Accuracy on test: 0.975\n",
      "-------------------------\n",
      "Cross entropy:  0.21851856625096747\n",
      "Accuracy on train: 0.964028776978\n",
      "Accuracy on test: 0.975\n",
      "-------------------------\n"
     ]
    }
   ],
   "source": [
    "for i in range(n_interations):\n",
    "    # Predict train and test\n",
    "    predict_train = feed_foward(features_train, W, b)\n",
    "    predict_test = feed_foward(features_test, W, b)\n",
    "    \n",
    "    # Perform gradient descent, and use regularization     \n",
    "    W -= learning_rate * (features_train.T.dot(predict_train - labels_train) - regularization * W)\n",
    "    b -= learning_rate * (predict_train - labels_train).sum()\n",
    "    \n",
    "    # Calculate costs\n",
    "    training_cost = cross_entropy(labels_train, predict_train)\n",
    "    training_costs.append(training_cost)\n",
    "    test_cost = cross_entropy(labels_test, predict_test)\n",
    "    test_costs.append(test_cost)\n",
    "    \n",
    "    # Calculate accuracy\n",
    "    if i % 100 == 0:\n",
    "        print('Cross entropy: ', training_cost)\n",
    "        print('Accuracy on train:', accuracy(labels_train, np.round(predict_train)))  \n",
    "        print('Accuracy on test:', accuracy(labels_test, np.round(predict_test)))\n",
    "        print('-------------------------')"
   ]
  },
  {
   "cell_type": "code",
   "execution_count": null,
   "metadata": {
    "collapsed": false
   },
   "outputs": [],
   "source": [
    "plt.plot(training_costs, c = 'b', label = 'Train cost')\n",
    "plt.plot(test_costs, c = 'g', label = 'Test cost')\n",
    "plt.legend()"
   ]
  }
 ],
 "metadata": {
  "anaconda-cloud": {},
  "kernelspec": {
   "display_name": "Python [conda root]",
   "language": "python",
   "name": "conda-root-py"
  },
  "language_info": {
   "codemirror_mode": {
    "name": "ipython",
    "version": 3
   },
   "file_extension": ".py",
   "mimetype": "text/x-python",
   "name": "python",
   "nbconvert_exporter": "python",
   "pygments_lexer": "ipython3",
   "version": "3.5.2"
  }
 },
 "nbformat": 4,
 "nbformat_minor": 1
}
